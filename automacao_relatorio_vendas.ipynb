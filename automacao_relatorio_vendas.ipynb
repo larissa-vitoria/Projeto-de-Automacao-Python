{
 "cells": [
  {
   "cell_type": "code",
   "execution_count": 8,
   "id": "a6e24c42",
   "metadata": {},
   "outputs": [
    {
     "name": "stdout",
     "output_type": "stream",
     "text": [
      "Requirement already satisfied: faker in c:\\users\\laris\\anaconda3\\lib\\site-packages (18.11.1)\n",
      "Requirement already satisfied: python-dateutil>=2.4 in c:\\users\\laris\\anaconda3\\lib\\site-packages (from faker) (2.8.2)\n",
      "Requirement already satisfied: six>=1.5 in c:\\users\\laris\\anaconda3\\lib\\site-packages (from python-dateutil>=2.4->faker) (1.16.0)\n",
      "Note: you may need to restart the kernel to use updated packages.\n"
     ]
    }
   ],
   "source": [
    "pip install faker"
   ]
  },
  {
   "cell_type": "code",
   "execution_count": 15,
   "id": "9a66fa6c",
   "metadata": {},
   "outputs": [
    {
     "name": "stdout",
     "output_type": "stream",
     "text": [
      "O arquivo dados_vendas.csv foi criado com sucesso.\n"
     ]
    }
   ],
   "source": [
    "#CRIAÇÃO DA BASE DE DADOS FICTÍCIOS\n",
    "\n",
    "import csv \n",
    "import random\n",
    "from faker import Faker\n",
    "\n",
    "num_rows = 261\n",
    "fieldnames = ['ID Produto', 'Valor', 'Quantidade', 'Cliente', 'Email']\n",
    "filename = 'dados_vendas.csv'\n",
    "\n",
    "with open(filename, 'w', newline='') as file:\n",
    "    writer = csv.DictWriter(file, fieldnames=fieldnames)\n",
    "    writer.writeheader()\n",
    "                            \n",
    "    # Criação dos dados fictícios\n",
    "\n",
    "    for _ in range (num_rows):\n",
    "        fake = Faker('pt_BR')\n",
    "        produto_id = str(random.randint(100, 333))\n",
    "        valor = fake.pydecimal(left_digits=3, right_digits=2, positive=True)\n",
    "        quantidade = fake.random_int(min=100, max=260)\n",
    "        nome_cliente = fake.name()\n",
    "        email_cliente = fake.email()\n",
    "\n",
    "        # Dicionário com os dados\n",
    "\n",
    "        data = {\n",
    "            'ID Produto': produto_id,\n",
    "            'Valor': valor,\n",
    "            'Quantidade': quantidade,\n",
    "            'Cliente': nome_cliente,\n",
    "            'Email': email_cliente\n",
    "        }\n",
    "\n",
    "        writer.writerow(data)\n",
    "\n",
    "# Testa se o arquivo .csv foi criado com sucesso\n",
    "from pathlib import Path\n",
    "\n",
    "filename = 'dados_vendas.csv'\n",
    "\n",
    "file_path = Path(filename)\n",
    "\n",
    "if file_path.is_file():\n",
    "    print(f'O arquivo {filename} foi criado com sucesso.')\n",
    "else:\n",
    "    print(f'O arquivo {filename} não foi encontrado.')"
   ]
  },
  {
   "cell_type": "code",
   "execution_count": null,
   "id": "18528231",
   "metadata": {},
   "outputs": [],
   "source": []
  },
  {
   "cell_type": "code",
   "execution_count": null,
   "id": "28651ea1",
   "metadata": {},
   "outputs": [],
   "source": []
  }
 ],
 "metadata": {
  "kernelspec": {
   "display_name": "Python 3 (ipykernel)",
   "language": "python",
   "name": "python3"
  },
  "language_info": {
   "codemirror_mode": {
    "name": "ipython",
    "version": 3
   },
   "file_extension": ".py",
   "mimetype": "text/x-python",
   "name": "python",
   "nbconvert_exporter": "python",
   "pygments_lexer": "ipython3",
   "version": "3.10.9"
  }
 },
 "nbformat": 4,
 "nbformat_minor": 5
}
